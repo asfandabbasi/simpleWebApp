{
 "cells": [
  {
   "cell_type": "code",
   "execution_count": 5,
   "id": "8ab7114e",
   "metadata": {},
   "outputs": [],
   "source": [
    "import requests\n",
    "import json"
   ]
  },
  {
   "cell_type": "code",
   "execution_count": 6,
   "id": "bf493822",
   "metadata": {},
   "outputs": [],
   "source": [
    "token = \"9b0d6ca2db3de2046e5093db6908b2655159e5b5\""
   ]
  },
  {
   "cell_type": "code",
   "execution_count": 4,
   "id": "5e609ac9",
   "metadata": {},
   "outputs": [
    {
     "data": {
      "text/plain": [
       "<Response [200]>"
      ]
     },
     "execution_count": 4,
     "metadata": {},
     "output_type": "execute_result"
    }
   ],
   "source": [
    "headers={\"Authorization\":f\"Token {token}\" }\n",
    "path = '/home/beedata/Documents/uni/DataIngestionWebApp/pythonProject/WebApp/sample_data/Tech task data - Sheet1.csv'\n",
    "files = {\"upload_file\": open(path,\"r\")}\n",
    "\n",
    "r = requests.post('http://localhost:8000/data-ingestion/invoice-upload/', headers=headers,files=files)\n",
    "r"
   ]
  },
  {
   "cell_type": "code",
   "execution_count": 3,
   "id": "83357a27",
   "metadata": {},
   "outputs": [
    {
     "ename": "NameError",
     "evalue": "name 'r' is not defined",
     "output_type": "error",
     "traceback": [
      "\u001b[0;31m---------------------------------------------------------------------------\u001b[0m",
      "\u001b[0;31mNameError\u001b[0m                                 Traceback (most recent call last)",
      "Cell \u001b[0;32mIn[3], line 1\u001b[0m\n\u001b[0;32m----> 1\u001b[0m \u001b[43mr\u001b[49m\u001b[38;5;241m.\u001b[39mcontent\n",
      "\u001b[0;31mNameError\u001b[0m: name 'r' is not defined"
     ]
    }
   ],
   "source": [
    "r.content"
   ]
  },
  {
   "cell_type": "code",
   "execution_count": null,
   "id": "8711a17b",
   "metadata": {},
   "outputs": [],
   "source": [
    "headers={\"Authorization\":f\"Token {token}\" }\n",
    "payload = {}#{'revenue_source':'Happy Playcrows'}\n",
    "r = requests.get(\"http://localhost:8000/data-ingestion/invoices/get-advance/\", headers=headers, data=payload)\n",
    "r.json()"
   ]
  },
  {
   "cell_type": "code",
   "execution_count": null,
   "id": "0bbeb926",
   "metadata": {},
   "outputs": [],
   "source": []
  }
 ],
 "metadata": {
  "kernelspec": {
   "display_name": "Django Shell-Plus",
   "language": "python",
   "name": "django_extensions"
  },
  "language_info": {
   "codemirror_mode": {
    "name": "ipython",
    "version": 3
   },
   "file_extension": ".py",
   "mimetype": "text/x-python",
   "name": "python",
   "nbconvert_exporter": "python",
   "pygments_lexer": "ipython3",
   "version": "3.10.12"
  }
 },
 "nbformat": 4,
 "nbformat_minor": 5
}
